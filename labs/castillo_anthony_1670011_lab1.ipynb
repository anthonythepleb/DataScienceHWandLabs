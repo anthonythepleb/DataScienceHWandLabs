{
  "cells": [
    {
      "cell_type": "code",
      "execution_count": 1,
      "metadata": {
        "id": "MLKeoNKni6Z6"
      },
      "outputs": [],
      "source": [
        "import numpy as np"
      ]
    },
    {
      "cell_type": "code",
      "execution_count": 2,
      "metadata": {
        "colab": {
          "base_uri": "https://localhost:8080/"
        },
        "id": "VkJs-t-xmIyu",
        "outputId": "25fdcc57-cd70-46ea-c3bc-a1f9318b2259"
      },
      "outputs": [
        {
          "name": "stdout",
          "output_type": "stream",
          "text": [
            "[1, 2, 3, 4, 5]\n",
            "<class 'list'>\n"
          ]
        }
      ],
      "source": [
        "python_list = [1,2,3,4,5]\n",
        "print(python_list)\n",
        "print(type(python_list))"
      ]
    },
    {
      "cell_type": "code",
      "execution_count": 3,
      "metadata": {
        "colab": {
          "base_uri": "https://localhost:8080/"
        },
        "id": "ZMTuoG6EmQXM",
        "outputId": "eb3fef1f-a18a-4508-f190-e065fb2d1bf5"
      },
      "outputs": [
        {
          "name": "stdout",
          "output_type": "stream",
          "text": [
            "[1 2 3 4 5]\n",
            "<class 'numpy.ndarray'>\n"
          ]
        }
      ],
      "source": [
        "numpy_array = np.array(python_list)\n",
        "print(numpy_array)\n",
        "print(type(numpy_array))"
      ]
    },
    {
      "cell_type": "code",
      "execution_count": 4,
      "metadata": {
        "colab": {
          "base_uri": "https://localhost:8080/"
        },
        "id": "gFcxSGV1rf5p",
        "outputId": "9e0b63f9-c634-4202-d23d-54dcbf70d485"
      },
      "outputs": [
        {
          "name": "stdout",
          "output_type": "stream",
          "text": [
            "[[1, 2, 3, 4, 5], [6, 7, 8, 9, 10], [11, 12, 13, 14, 15]]\n",
            "<class 'list'>\n"
          ]
        }
      ],
      "source": [
        "python_2d_array = [[1,2,3,4,5],[6,7,8,9,10],[11,12,13,14,15]]\n",
        "print(python_2d_array)\n",
        "print(type(python_2d_array))"
      ]
    },
    {
      "cell_type": "code",
      "execution_count": 5,
      "metadata": {
        "colab": {
          "base_uri": "https://localhost:8080/"
        },
        "id": "cozGE0JtrrUq",
        "outputId": "e2d89dea-c0ee-47b2-f08f-9729c56da054"
      },
      "outputs": [
        {
          "name": "stdout",
          "output_type": "stream",
          "text": [
            "[[ 1  2  3  4  5]\n",
            " [ 6  7  8  9 10]\n",
            " [11 12 13 14 15]]\n",
            "<class 'numpy.ndarray'>\n"
          ]
        }
      ],
      "source": [
        "numpy_2d_array = np.array(python_2d_array)\n",
        "print(numpy_2d_array)\n",
        "print(type(numpy_2d_array))"
      ]
    },
    {
      "cell_type": "code",
      "execution_count": 6,
      "metadata": {
        "colab": {
          "base_uri": "https://localhost:8080/"
        },
        "id": "nhowMzNYsCsX",
        "outputId": "1954ed48-ee76-4350-f6d6-b2881c9e3c66"
      },
      "outputs": [
        {
          "data": {
            "text/plain": [
              "array([ 0,  1,  2,  3,  4,  5,  6,  7,  8,  9, 10, 11, 12, 13, 14])"
            ]
          },
          "execution_count": 6,
          "metadata": {},
          "output_type": "execute_result"
        }
      ],
      "source": [
        "np.arange(0,15)"
      ]
    },
    {
      "cell_type": "code",
      "execution_count": 7,
      "metadata": {
        "colab": {
          "base_uri": "https://localhost:8080/"
        },
        "id": "1hi5Vr_0sJr8",
        "outputId": "185ccbaf-d2e0-4498-c49d-7dce5dc0882d"
      },
      "outputs": [
        {
          "data": {
            "text/plain": [
              "array([ 0,  2,  4,  6,  8, 10, 12, 14])"
            ]
          },
          "execution_count": 7,
          "metadata": {},
          "output_type": "execute_result"
        }
      ],
      "source": [
        "np.arange(0,15,2)"
      ]
    },
    {
      "cell_type": "code",
      "execution_count": 8,
      "metadata": {
        "colab": {
          "base_uri": "https://localhost:8080/"
        },
        "id": "tezrfHYLsMsn",
        "outputId": "c92e4372-75b1-4bbc-8db4-cd2a0160af38"
      },
      "outputs": [
        {
          "data": {
            "text/plain": [
              "array([[ 0,  1,  2,  3,  4],\n",
              "       [ 5,  6,  7,  8,  9],\n",
              "       [10, 11, 12, 13, 14]])"
            ]
          },
          "execution_count": 8,
          "metadata": {},
          "output_type": "execute_result"
        }
      ],
      "source": [
        "np.arange(0,15).reshape(3,5)"
      ]
    },
    {
      "cell_type": "code",
      "execution_count": 9,
      "metadata": {
        "colab": {
          "base_uri": "https://localhost:8080/"
        },
        "id": "EnAAWr6zsXwY",
        "outputId": "101e04f9-1e52-4ae0-a886-edaf40b0ad3c"
      },
      "outputs": [
        {
          "data": {
            "text/plain": [
              "array([0., 0., 0., 0., 0., 0., 0., 0., 0., 0., 0., 0., 0., 0., 0.])"
            ]
          },
          "execution_count": 9,
          "metadata": {},
          "output_type": "execute_result"
        }
      ],
      "source": [
        "np.zeros(15)"
      ]
    },
    {
      "cell_type": "code",
      "execution_count": 10,
      "metadata": {
        "colab": {
          "base_uri": "https://localhost:8080/"
        },
        "id": "itmRfdtxsbYN",
        "outputId": "65b8250c-bfe1-4990-e67f-327f24470359"
      },
      "outputs": [
        {
          "data": {
            "text/plain": [
              "array([[0., 0., 0., 0., 0.],\n",
              "       [0., 0., 0., 0., 0.],\n",
              "       [0., 0., 0., 0., 0.]])"
            ]
          },
          "execution_count": 10,
          "metadata": {},
          "output_type": "execute_result"
        }
      ],
      "source": [
        "np.zeros(15).reshape(3,5)"
      ]
    },
    {
      "cell_type": "code",
      "execution_count": 11,
      "metadata": {
        "colab": {
          "base_uri": "https://localhost:8080/"
        },
        "id": "FHAwwE0OsoKT",
        "outputId": "b3b283d5-85a1-478b-8acd-e1a60573522e"
      },
      "outputs": [
        {
          "data": {
            "text/plain": [
              "array([1., 1., 1., 1., 1., 1., 1., 1., 1., 1., 1., 1., 1., 1., 1.])"
            ]
          },
          "execution_count": 11,
          "metadata": {},
          "output_type": "execute_result"
        }
      ],
      "source": [
        "np.ones(15)"
      ]
    },
    {
      "cell_type": "code",
      "execution_count": 12,
      "metadata": {
        "colab": {
          "base_uri": "https://localhost:8080/"
        },
        "id": "LeylUb8psq5I",
        "outputId": "001d3798-4703-4ae1-aa43-06dc4f77ee11"
      },
      "outputs": [
        {
          "data": {
            "text/plain": [
              "array([[1., 1., 1., 1., 1.],\n",
              "       [1., 1., 1., 1., 1.],\n",
              "       [1., 1., 1., 1., 1.]])"
            ]
          },
          "execution_count": 12,
          "metadata": {},
          "output_type": "execute_result"
        }
      ],
      "source": [
        "np.ones(15).reshape(3,5)"
      ]
    },
    {
      "cell_type": "code",
      "execution_count": 13,
      "metadata": {},
      "outputs": [
        {
          "data": {
            "text/plain": [
              "array([[1, 1, 1, 1, 1, 1, 1, 1],\n",
              "       [1, 1, 1, 1, 1, 1, 1, 1],\n",
              "       [1, 1, 1, 1, 1, 1, 1, 1],\n",
              "       [1, 1, 1, 1, 1, 1, 1, 1],\n",
              "       [1, 1, 1, 1, 1, 1, 1, 1],\n",
              "       [1, 1, 1, 1, 1, 1, 1, 1],\n",
              "       [1, 1, 1, 1, 1, 1, 1, 1],\n",
              "       [1, 1, 1, 1, 1, 1, 1, 1]])"
            ]
          },
          "execution_count": 13,
          "metadata": {},
          "output_type": "execute_result"
        }
      ],
      "source": [
        "np.ones(64, dtype = int).reshape(8,8)"
      ]
    },
    {
      "cell_type": "code",
      "execution_count": 14,
      "metadata": {
        "colab": {
          "base_uri": "https://localhost:8080/"
        },
        "id": "HV_sr7zysuei",
        "outputId": "c70bf020-9d94-4047-aab2-a5862bb93be2"
      },
      "outputs": [
        {
          "data": {
            "text/plain": [
              "array([[1, 1, 1, 1, 1],\n",
              "       [1, 1, 1, 1, 1],\n",
              "       [1, 1, 1, 1, 1]])"
            ]
          },
          "execution_count": 14,
          "metadata": {},
          "output_type": "execute_result"
        }
      ],
      "source": [
        "np.ones(15,dtype = int).reshape(3,5)"
      ]
    },
    {
      "cell_type": "code",
      "execution_count": 15,
      "metadata": {
        "colab": {
          "base_uri": "https://localhost:8080/"
        },
        "id": "xRD2GOdZs5fy",
        "outputId": "28b8f2ea-fefb-43e5-b3a5-55eeff537ad2"
      },
      "outputs": [
        {
          "data": {
            "text/plain": [
              "array([[1., 0., 0., 0., 0., 0., 0., 0., 0., 0.],\n",
              "       [0., 1., 0., 0., 0., 0., 0., 0., 0., 0.],\n",
              "       [0., 0., 1., 0., 0., 0., 0., 0., 0., 0.],\n",
              "       [0., 0., 0., 1., 0., 0., 0., 0., 0., 0.],\n",
              "       [0., 0., 0., 0., 1., 0., 0., 0., 0., 0.],\n",
              "       [0., 0., 0., 0., 0., 1., 0., 0., 0., 0.],\n",
              "       [0., 0., 0., 0., 0., 0., 1., 0., 0., 0.],\n",
              "       [0., 0., 0., 0., 0., 0., 0., 1., 0., 0.],\n",
              "       [0., 0., 0., 0., 0., 0., 0., 0., 1., 0.],\n",
              "       [0., 0., 0., 0., 0., 0., 0., 0., 0., 1.]])"
            ]
          },
          "execution_count": 15,
          "metadata": {},
          "output_type": "execute_result"
        }
      ],
      "source": [
        "np.eye(5)\n",
        "#testing\n",
        "np.eye(10)"
      ]
    },
    {
      "cell_type": "code",
      "execution_count": 16,
      "metadata": {
        "colab": {
          "base_uri": "https://localhost:8080/"
        },
        "id": "tgf53bbqtHgQ",
        "outputId": "81872b4d-5889-464f-ebb7-374e98a17dd4"
      },
      "outputs": [
        {
          "data": {
            "text/plain": [
              "array([0.3473514 , 0.10396152, 0.64288066, 0.57429609, 0.90749516])"
            ]
          },
          "execution_count": 16,
          "metadata": {},
          "output_type": "execute_result"
        }
      ],
      "source": [
        "np.random.rand(5)"
      ]
    },
    {
      "cell_type": "code",
      "execution_count": 17,
      "metadata": {
        "colab": {
          "base_uri": "https://localhost:8080/"
        },
        "id": "zUIqUrW-tJz2",
        "outputId": "a23c2107-257c-425d-a13f-a4d780c8f1eb"
      },
      "outputs": [
        {
          "data": {
            "text/plain": [
              "array([ 0.97255396, -0.53431685,  0.03091266,  0.51496028,  1.75152312])"
            ]
          },
          "execution_count": 17,
          "metadata": {},
          "output_type": "execute_result"
        }
      ],
      "source": [
        "np.random.randn(5)"
      ]
    },
    {
      "cell_type": "code",
      "execution_count": 18,
      "metadata": {
        "colab": {
          "base_uri": "https://localhost:8080/"
        },
        "id": "xP02IArctS6b",
        "outputId": "33c85186-7552-4a10-a139-01603858752c"
      },
      "outputs": [
        {
          "data": {
            "text/plain": [
              "64"
            ]
          },
          "execution_count": 18,
          "metadata": {},
          "output_type": "execute_result"
        }
      ],
      "source": [
        "np.random.randint(1,100)"
      ]
    },
    {
      "cell_type": "code",
      "execution_count": 19,
      "metadata": {
        "colab": {
          "base_uri": "https://localhost:8080/"
        },
        "id": "ST0VM6KYtY-j",
        "outputId": "c5b23977-1904-4249-e6ea-8b44a3d68848"
      },
      "outputs": [
        {
          "data": {
            "text/plain": [
              "array([89, 34, 69, 30, 13, 62, 94, 81, 81, 88, 18, 10, 45, 80, 73])"
            ]
          },
          "execution_count": 19,
          "metadata": {},
          "output_type": "execute_result"
        }
      ],
      "source": [
        "np.random.randint(1,100,15)"
      ]
    },
    {
      "cell_type": "code",
      "execution_count": 20,
      "metadata": {
        "colab": {
          "base_uri": "https://localhost:8080/"
        },
        "id": "2Jpmj0hTtk1-",
        "outputId": "198795e9-a04f-4675-a122-a39b4e3ac7df"
      },
      "outputs": [
        {
          "data": {
            "text/plain": [
              "array([[85, 71,  4, 57,  4],\n",
              "       [22, 96, 58, 78, 54],\n",
              "       [35, 58, 38, 60, 82],\n",
              "       [72,  4, 52, 27, 71]])"
            ]
          },
          "execution_count": 20,
          "metadata": {},
          "output_type": "execute_result"
        }
      ],
      "source": [
        "A = np.random.randint(0,100,20).reshape(4,5)\n",
        "A"
      ]
    },
    {
      "cell_type": "code",
      "execution_count": 21,
      "metadata": {},
      "outputs": [
        {
          "data": {
            "text/plain": [
              "array([[ 9, 16, 21],\n",
              "       [ 8, 23, 22],\n",
              "       [12, 18, 17]])"
            ]
          },
          "execution_count": 21,
          "metadata": {},
          "output_type": "execute_result"
        }
      ],
      "source": [
        "B = np.random.randint(0,25,9).reshape(3,3)\n",
        "B"
      ]
    },
    {
      "cell_type": "code",
      "execution_count": 22,
      "metadata": {
        "colab": {
          "base_uri": "https://localhost:8080/"
        },
        "id": "xhjUvkuvtsLK",
        "outputId": "c26b5c0c-6b69-4356-f0e6-8d7edc068545"
      },
      "outputs": [
        {
          "name": "stdout",
          "output_type": "stream",
          "text": [
            "The smallest value in A is 4, and is a located at position 2\n",
            "The largest value in A is 96, and is a located at position 6\n"
          ]
        }
      ],
      "source": [
        "print(f\"The smallest value in A is {A.min()}, and is a located at position {A.argmin()}\")\n",
        "print(f\"The largest value in A is {A.max()}, and is a located at position {A.argmax()}\")"
      ]
    },
    {
      "cell_type": "code",
      "execution_count": 23,
      "metadata": {
        "colab": {
          "base_uri": "https://localhost:8080/"
        },
        "id": "HhLTLuUQumAO",
        "outputId": "32beca2f-8a05-4465-fa99-6533ce8eb0d6"
      },
      "outputs": [
        {
          "data": {
            "text/plain": [
              "(4, 5)"
            ]
          },
          "execution_count": 23,
          "metadata": {},
          "output_type": "execute_result"
        }
      ],
      "source": [
        "A.shape"
      ]
    },
    {
      "cell_type": "code",
      "execution_count": 24,
      "metadata": {
        "colab": {
          "base_uri": "https://localhost:8080/"
        },
        "id": "y48yAuopun-d",
        "outputId": "b770db8d-7a6b-4c6b-f348-e0a201f61021"
      },
      "outputs": [
        {
          "data": {
            "text/plain": [
              "(4, 5)"
            ]
          },
          "execution_count": 24,
          "metadata": {},
          "output_type": "execute_result"
        }
      ],
      "source": [
        "np.shape(A)"
      ]
    },
    {
      "cell_type": "code",
      "execution_count": 25,
      "metadata": {
        "colab": {
          "base_uri": "https://localhost:8080/"
        },
        "id": "rH4YUMATvX6i",
        "outputId": "703812fa-dfe5-4abe-c634-fc29f8ac1e8d"
      },
      "outputs": [
        {
          "name": "stdout",
          "output_type": "stream",
          "text": [
            "A: [ 1  2  3  4  5  6  7  8  9 10 11 12 13 14 15]\n",
            "B: [ 1  3  5  7  9 11 13 15 17 19 21 23 25 27 29]\n",
            "C:\n",
            "[[0 1]\n",
            " [2 3]]\n",
            "D:\n",
            "[[0 1]\n",
            " [2 3]]\n",
            "E:\n",
            "[[ 1  2  3  4  5]\n",
            " [ 6  7  8  9 10]\n",
            " [11 12 13 14 15]]\n",
            "F: [ 0  1  2  3  4  5  6  7  8  9 10]\n"
          ]
        }
      ],
      "source": [
        "A = np.arange(1,16)\n",
        "B = np.arange(1,30,2)\n",
        "C = np.arange(0,4).reshape(2,2)\n",
        "D = np.arange(0,4).reshape(2,2)\n",
        "E = np.arange(1,16).reshape(3,5)\n",
        "F = np.arange(11)\n",
        "print(f\"A: {A}\")\n",
        "print(f\"B: {B}\")\n",
        "print(\"C:\")\n",
        "print(C)\n",
        "print(\"D:\")\n",
        "print(D)\n",
        "print(\"E:\")\n",
        "print(E)\n",
        "print(f\"F: {F}\")"
      ]
    },
    {
      "cell_type": "code",
      "execution_count": 26,
      "metadata": {
        "colab": {
          "base_uri": "https://localhost:8080/"
        },
        "id": "Jjq8v0dpwGfB",
        "outputId": "9136f2be-2ebc-4421-ec8e-590aeacd5d6f"
      },
      "outputs": [
        {
          "data": {
            "text/plain": [
              "array([ 2,  5,  8, 11, 14, 17, 20, 23, 26, 29, 32, 35, 38, 41, 44])"
            ]
          },
          "execution_count": 26,
          "metadata": {},
          "output_type": "execute_result"
        }
      ],
      "source": [
        "A+B"
      ]
    },
    {
      "cell_type": "code",
      "execution_count": 27,
      "metadata": {
        "colab": {
          "base_uri": "https://localhost:8080/"
        },
        "id": "n_xhTc-ZwIg6",
        "outputId": "76d1c293-fdca-402d-a971-a6aefe6d3c82"
      },
      "outputs": [
        {
          "data": {
            "text/plain": [
              "array([ 6,  7,  8,  9, 10, 11, 12, 13, 14, 15, 16, 17, 18, 19, 20])"
            ]
          },
          "execution_count": 27,
          "metadata": {},
          "output_type": "execute_result"
        }
      ],
      "source": [
        "A+5"
      ]
    },
    {
      "cell_type": "code",
      "execution_count": 28,
      "metadata": {
        "colab": {
          "base_uri": "https://localhost:8080/"
        },
        "id": "GCApS0efwSTf",
        "outputId": "64bd6689-d83c-47a3-b5d7-fcb8917ece78"
      },
      "outputs": [
        {
          "data": {
            "text/plain": [
              "array([  0,  -1,  -2,  -3,  -4,  -5,  -6,  -7,  -8,  -9, -10, -11, -12,\n",
              "       -13, -14])"
            ]
          },
          "execution_count": 28,
          "metadata": {},
          "output_type": "execute_result"
        }
      ],
      "source": [
        "A-B"
      ]
    },
    {
      "cell_type": "code",
      "execution_count": 29,
      "metadata": {
        "colab": {
          "base_uri": "https://localhost:8080/"
        },
        "id": "oNkYGQ7hwTiq",
        "outputId": "6c6dc57c-dbec-4a6f-e4ed-c92e51e76c9e"
      },
      "outputs": [
        {
          "data": {
            "text/plain": [
              "array([-4, -3, -2, -1,  0,  1,  2,  3,  4,  5,  6,  7,  8,  9, 10])"
            ]
          },
          "execution_count": 29,
          "metadata": {},
          "output_type": "execute_result"
        }
      ],
      "source": [
        "A-5"
      ]
    },
    {
      "cell_type": "code",
      "execution_count": 30,
      "metadata": {
        "colab": {
          "base_uri": "https://localhost:8080/"
        },
        "id": "ahbzr1zXwVqu",
        "outputId": "59f3d13e-2be7-46ad-80b3-dd0fcd30303f"
      },
      "outputs": [
        {
          "data": {
            "text/plain": [
              "array([  1,   6,  15,  28,  45,  66,  91, 120, 153, 190, 231, 276, 325,\n",
              "       378, 435])"
            ]
          },
          "execution_count": 30,
          "metadata": {},
          "output_type": "execute_result"
        }
      ],
      "source": [
        "A*B"
      ]
    },
    {
      "cell_type": "code",
      "execution_count": 31,
      "metadata": {
        "colab": {
          "base_uri": "https://localhost:8080/"
        },
        "id": "9IBae-92wX7A",
        "outputId": "ced65af6-14c1-47a8-87b1-a7743464d196"
      },
      "outputs": [
        {
          "data": {
            "text/plain": [
              "array([ 5, 10, 15, 20, 25, 30, 35, 40, 45, 50, 55, 60, 65, 70, 75])"
            ]
          },
          "execution_count": 31,
          "metadata": {},
          "output_type": "execute_result"
        }
      ],
      "source": [
        "A*5"
      ]
    },
    {
      "cell_type": "code",
      "execution_count": 32,
      "metadata": {
        "colab": {
          "base_uri": "https://localhost:8080/"
        },
        "id": "uWHSqSj_wg_c",
        "outputId": "a6456950-6dcf-4811-d013-ae9caffda666"
      },
      "outputs": [
        {
          "data": {
            "text/plain": [
              "array([1.        , 0.66666667, 0.6       , 0.57142857, 0.55555556,\n",
              "       0.54545455, 0.53846154, 0.53333333, 0.52941176, 0.52631579,\n",
              "       0.52380952, 0.52173913, 0.52      , 0.51851852, 0.51724138])"
            ]
          },
          "execution_count": 32,
          "metadata": {},
          "output_type": "execute_result"
        }
      ],
      "source": [
        "A/B"
      ]
    },
    {
      "cell_type": "code",
      "execution_count": 33,
      "metadata": {
        "colab": {
          "base_uri": "https://localhost:8080/"
        },
        "id": "yg4VqbvOwioZ",
        "outputId": "f27fec77-a0ca-4b9e-e339-5459788276af"
      },
      "outputs": [
        {
          "data": {
            "text/plain": [
              "array([0.5, 1. , 1.5, 2. , 2.5, 3. , 3.5, 4. , 4.5, 5. , 5.5, 6. , 6.5,\n",
              "       7. , 7.5])"
            ]
          },
          "execution_count": 33,
          "metadata": {},
          "output_type": "execute_result"
        }
      ],
      "source": [
        "A/2"
      ]
    },
    {
      "cell_type": "code",
      "execution_count": 34,
      "metadata": {
        "colab": {
          "base_uri": "https://localhost:8080/"
        },
        "id": "eGA_Et35wqSp",
        "outputId": "e54d3518-066f-4186-f6b8-8c0593c2b80c"
      },
      "outputs": [
        {
          "data": {
            "text/plain": [
              "array([[ 2,  3],\n",
              "       [ 6, 11]])"
            ]
          },
          "execution_count": 34,
          "metadata": {},
          "output_type": "execute_result"
        }
      ],
      "source": [
        "np.matmul(C,D)"
      ]
    },
    {
      "cell_type": "code",
      "execution_count": 35,
      "metadata": {
        "colab": {
          "base_uri": "https://localhost:8080/"
        },
        "id": "_LA_WauDwuOf",
        "outputId": "9827cc8b-2e6a-402a-ef0a-7ca4b0877a92"
      },
      "outputs": [
        {
          "data": {
            "text/plain": [
              "array([[1.        , 1.41421356, 1.73205081, 2.        , 2.23606798],\n",
              "       [2.44948974, 2.64575131, 2.82842712, 3.        , 3.16227766],\n",
              "       [3.31662479, 3.46410162, 3.60555128, 3.74165739, 3.87298335]])"
            ]
          },
          "execution_count": 35,
          "metadata": {},
          "output_type": "execute_result"
        }
      ],
      "source": [
        "np.sqrt(E)"
      ]
    },
    {
      "cell_type": "code",
      "execution_count": 36,
      "metadata": {
        "colab": {
          "base_uri": "https://localhost:8080/"
        },
        "id": "VEEJG_H8wwjK",
        "outputId": "bf913eab-7793-4a04-ea34-fb950851e98d"
      },
      "outputs": [
        {
          "data": {
            "text/plain": [
              "array([[0.        , 0.69314718, 1.09861229, 1.38629436, 1.60943791],\n",
              "       [1.79175947, 1.94591015, 2.07944154, 2.19722458, 2.30258509],\n",
              "       [2.39789527, 2.48490665, 2.56494936, 2.63905733, 2.7080502 ]])"
            ]
          },
          "execution_count": 36,
          "metadata": {},
          "output_type": "execute_result"
        }
      ],
      "source": [
        "np.log(E)"
      ]
    },
    {
      "cell_type": "code",
      "execution_count": 37,
      "metadata": {
        "colab": {
          "base_uri": "https://localhost:8080/"
        },
        "id": "BjGALeEOw3PA",
        "outputId": "c829f823-11df-413c-d2be-6642d9d699b8"
      },
      "outputs": [
        {
          "data": {
            "text/plain": [
              "array([ -1, 100,  -1, 300,  -1, 500,  -1, 700,  -1, 900,  -1])"
            ]
          },
          "execution_count": 37,
          "metadata": {},
          "output_type": "execute_result"
        }
      ],
      "source": [
        "np.where(F%2==0,-1,F*100)"
      ]
    },
    {
      "cell_type": "code",
      "execution_count": 38,
      "metadata": {
        "colab": {
          "base_uri": "https://localhost:8080/"
        },
        "id": "RNnmuHK3xKFU",
        "outputId": "7406b500-22fc-48fe-f3b7-1b4ddf4da7b7"
      },
      "outputs": [
        {
          "data": {
            "text/plain": [
              "array([ 0,  1,  2,  3,  4,  5,  6,  7,  8,  9, 10, 11, 12, 13, 14])"
            ]
          },
          "execution_count": 38,
          "metadata": {},
          "output_type": "execute_result"
        }
      ],
      "source": [
        "A = np.arange(15)\n",
        "A"
      ]
    },
    {
      "cell_type": "code",
      "execution_count": 39,
      "metadata": {
        "colab": {
          "base_uri": "https://localhost:8080/"
        },
        "id": "xdqfzf1pxMam",
        "outputId": "cf1ccef9-62ff-4f8d-f07a-eaaa8a25a51c"
      },
      "outputs": [
        {
          "name": "stdout",
          "output_type": "stream",
          "text": [
            "A[0]: 0\n",
            "A[5]: 5\n",
            "A[14]: 14\n"
          ]
        }
      ],
      "source": [
        "print(f\"A[0]: {A[0]}\")\n",
        "print(f\"A[5]: {A[5]}\")\n",
        "print(f\"A[14]: {A[14]}\")"
      ]
    },
    {
      "cell_type": "code",
      "execution_count": 40,
      "metadata": {
        "colab": {
          "base_uri": "https://localhost:8080/"
        },
        "id": "lCFZRYdFxYOX",
        "outputId": "7d7d2063-0d9c-4399-f0a8-119c3bc7c1e1"
      },
      "outputs": [
        {
          "data": {
            "text/plain": [
              "array([0, 1, 2, 3, 4, 5, 6, 7, 8, 9])"
            ]
          },
          "execution_count": 40,
          "metadata": {},
          "output_type": "execute_result"
        }
      ],
      "source": [
        "A[0:10]"
      ]
    },
    {
      "cell_type": "code",
      "execution_count": 41,
      "metadata": {
        "colab": {
          "base_uri": "https://localhost:8080/"
        },
        "id": "u6VG8tRzxchq",
        "outputId": "cbe111d1-dba4-43f1-fda8-97949af3114f"
      },
      "outputs": [
        {
          "data": {
            "text/plain": [
              "array([500, 500, 500, 500, 500, 500, 500, 500, 500, 500,  10,  11,  12,\n",
              "        13,  14])"
            ]
          },
          "execution_count": 41,
          "metadata": {},
          "output_type": "execute_result"
        }
      ],
      "source": [
        "A[0:10] = 500\n",
        "A"
      ]
    },
    {
      "cell_type": "code",
      "execution_count": 42,
      "metadata": {
        "colab": {
          "base_uri": "https://localhost:8080/"
        },
        "id": "voOycshXxj48",
        "outputId": "9c392934-ba79-42e6-853d-9687a20a9e13"
      },
      "outputs": [
        {
          "data": {
            "text/plain": [
              "array([[ 0,  1,  2,  3,  4,  5,  6,  7,  8,  9],\n",
              "       [10, 11, 12, 13, 14, 15, 16, 17, 18, 19],\n",
              "       [20, 21, 22, 23, 24, 25, 26, 27, 28, 29],\n",
              "       [30, 31, 32, 33, 34, 35, 36, 37, 38, 39],\n",
              "       [40, 41, 42, 43, 44, 45, 46, 47, 48, 49]])"
            ]
          },
          "execution_count": 42,
          "metadata": {},
          "output_type": "execute_result"
        }
      ],
      "source": [
        "B = np.arange(50).reshape(5,10)\n",
        "B"
      ]
    },
    {
      "cell_type": "code",
      "execution_count": 43,
      "metadata": {
        "colab": {
          "base_uri": "https://localhost:8080/"
        },
        "id": "2EYQxaEwxpLX",
        "outputId": "f3cfa6c1-4b65-4486-f2ec-7d26ab1a2bcc"
      },
      "outputs": [
        {
          "name": "stdout",
          "output_type": "stream",
          "text": [
            "0th row and 2nd col in B: 2\n",
            "3rd row and 3rd col in B: 33\n",
            "4th row and 2nd col in B: 42\n"
          ]
        }
      ],
      "source": [
        "print(f\"0th row and 2nd col in B: {B[0,2]}\")\n",
        "print(f\"3rd row and 3rd col in B: {B[3,3]}\")\n",
        "print(f\"4th row and 2nd col in B: {B[4,2]}\")"
      ]
    },
    {
      "cell_type": "code",
      "execution_count": 44,
      "metadata": {
        "colab": {
          "base_uri": "https://localhost:8080/"
        },
        "id": "PJOh9vfXyEP3",
        "outputId": "0fdf6fc4-b1f2-4366-ff78-b25a0935eb6c"
      },
      "outputs": [
        {
          "data": {
            "text/plain": [
              "array([[ 3,  4],\n",
              "       [13, 14]])"
            ]
          },
          "execution_count": 44,
          "metadata": {},
          "output_type": "execute_result"
        }
      ],
      "source": [
        "B[0:2,3:5]"
      ]
    },
    {
      "cell_type": "code",
      "execution_count": 45,
      "metadata": {
        "colab": {
          "base_uri": "https://localhost:8080/"
        },
        "id": "pKL6JEkpyZsa",
        "outputId": "5f6350a5-c34a-4ca9-8c1e-aed22f105d84"
      },
      "outputs": [
        {
          "data": {
            "text/plain": [
              "array([[ 0,  1,  2, -1, -1,  5,  6,  7,  8,  9],\n",
              "       [10, 11, 12, -1, -1, 15, 16, 17, 18, 19],\n",
              "       [20, 21, 22, 23, 24, 25, 26, 27, 28, 29],\n",
              "       [30, 31, 32, 33, 34, 35, 36, 37, 38, 39],\n",
              "       [40, 41, 42, 43, 44, 45, 46, 47, 48, 49]])"
            ]
          },
          "execution_count": 45,
          "metadata": {},
          "output_type": "execute_result"
        }
      ],
      "source": [
        "B[0:2,3:5] = -1\n",
        "B"
      ]
    },
    {
      "cell_type": "code",
      "execution_count": 46,
      "metadata": {
        "colab": {
          "base_uri": "https://localhost:8080/"
        },
        "id": "-FT8UhSuyf3A",
        "outputId": "b2a54d4e-adb5-4288-ef74-b52c49ad4015"
      },
      "outputs": [
        {
          "data": {
            "text/plain": [
              "array([[ 0,  1,  2,  3,  4],\n",
              "       [ 5,  6,  7,  8,  9],\n",
              "       [10, 11, 12, 13, 14],\n",
              "       [15, 16, 17, 18, 19],\n",
              "       [20, 21, 22, 23, 24],\n",
              "       [25, 26, 27, 28, 29],\n",
              "       [30, 31, 32, 33, 34],\n",
              "       [35, 36, 37, 38, 39],\n",
              "       [40, 41, 42, 43, 44],\n",
              "       [45, 46, 47, 48, 49]])"
            ]
          },
          "execution_count": 46,
          "metadata": {},
          "output_type": "execute_result"
        }
      ],
      "source": [
        "C = np.arange(50).reshape(10,5)\n",
        "C"
      ]
    },
    {
      "cell_type": "code",
      "execution_count": 47,
      "metadata": {
        "colab": {
          "base_uri": "https://localhost:8080/"
        },
        "id": "nKY4e9_Vyjap",
        "outputId": "35ab7240-c7b0-4a5d-cf2c-5260d45ba0fd"
      },
      "outputs": [
        {
          "data": {
            "text/plain": [
              "array([[ True, False,  True, False,  True],\n",
              "       [False,  True, False,  True, False],\n",
              "       [ True, False,  True, False,  True],\n",
              "       [False,  True, False,  True, False],\n",
              "       [ True, False,  True, False,  True],\n",
              "       [False,  True, False,  True, False],\n",
              "       [ True, False,  True, False,  True],\n",
              "       [False,  True, False,  True, False],\n",
              "       [ True, False,  True, False,  True],\n",
              "       [False,  True, False,  True, False]])"
            ]
          },
          "execution_count": 47,
          "metadata": {},
          "output_type": "execute_result"
        }
      ],
      "source": [
        "C%2==0"
      ]
    },
    {
      "cell_type": "code",
      "execution_count": 48,
      "metadata": {
        "colab": {
          "base_uri": "https://localhost:8080/"
        },
        "id": "ZLdi_M7vynbY",
        "outputId": "995031f3-bdb8-4c6e-a20b-fc14fd5d565a"
      },
      "outputs": [
        {
          "data": {
            "text/plain": [
              "25"
            ]
          },
          "execution_count": 48,
          "metadata": {},
          "output_type": "execute_result"
        }
      ],
      "source": [
        "(C%2==0).sum()"
      ]
    },
    {
      "cell_type": "code",
      "execution_count": 49,
      "metadata": {
        "colab": {
          "base_uri": "https://localhost:8080/"
        },
        "id": "8tM_rhw0y0eG",
        "outputId": "bda21354-d65f-470e-a094-57a14ffdacd6"
      },
      "outputs": [
        {
          "data": {
            "text/plain": [
              "array([ 0,  2,  4,  6,  8, 10, 12, 14, 16, 18, 20, 22, 24, 26, 28, 30, 32,\n",
              "       34, 36, 38, 40, 42, 44, 46, 48])"
            ]
          },
          "execution_count": 49,
          "metadata": {},
          "output_type": "execute_result"
        }
      ],
      "source": [
        "C[C%2==0]"
      ]
    }
  ],
  "metadata": {
    "colab": {
      "provenance": []
    },
    "kernelspec": {
      "display_name": "base",
      "language": "python",
      "name": "python3"
    },
    "language_info": {
      "codemirror_mode": {
        "name": "ipython",
        "version": 3
      },
      "file_extension": ".py",
      "mimetype": "text/x-python",
      "name": "python",
      "nbconvert_exporter": "python",
      "pygments_lexer": "ipython3",
      "version": "3.9.13"
    },
    "vscode": {
      "interpreter": {
        "hash": "ad2bdc8ecc057115af97d19610ffacc2b4e99fae6737bb82f5d7fb13d2f2c186"
      }
    }
  },
  "nbformat": 4,
  "nbformat_minor": 0
}
